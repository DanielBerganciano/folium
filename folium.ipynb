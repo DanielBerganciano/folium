import folium
import pandas as pd
from folium.plugins import HeatMap, MarkerCluster

# Cargar el dataset
df = pd.read_csv('fires_map.csv')

# Verificar los primeros registros para asegurarnos de que los datos se han cargado correctamente
df.head()

# Crear un mapa base
m = folium.Map(location=[39.8283, -98.5795], zoom_start=6)

# Extraer las coordenadas de latitud y longitud para el HeatMap
heat_data = [[row['latitude'], row['longitude']] for index, row in df.iterrows()]

# Agregar el HeatMap al mapa
HeatMap(heat_data).add_to(m)

# Crear el mapa base
m2 = folium.Map(location=[39.8283, -98.5795], zoom_start=6)

# Agregar marcadores con iconos de incendios
for index, row in df.iterrows():
    color = 'yellow' if row['brightness'] < 3000 else 'orange' if row['brightness'] < 3500 else 'red'
    folium.Marker(
        location=[row['latitude'], row['longitude']],
        icon=folium.Icon(color=color, icon='fire'),
        popup=f"Brightness: {row['brightness']}"
    ).add_to(m2)
    # Crear el mapa base
m3 = folium.Map(location=[39.8283, -98.5795], zoom_start=6)

# Crear un objeto MarkerCluster
marker_cluster = MarkerCluster().add_to(m3)

# Agregar marcadores al cluster
for index, row in df.iterrows():
    color = 'yellow' if row['brightness'] < 3000 else 'orange' if row['brightness'] < 3500 else 'red'
    folium.Marker(
        location=[row['latitude'], row['longitude']],
        icon=folium.Icon(color=color, icon='fire'),
        popup=f"Brightness: {row['brightness']}"
    ).add_to(marker_cluster)
    # Crear el mapa base
m4 = folium.Map(location=[39.8283, -98.5795], zoom_start=6)

# Crear FeatureGroups para Aqua y Terra
aqua = folium.FeatureGroup(name='Aqua')
terra = folium.FeatureGroup(name='Terra')

# Agregar marcadores según el satélite
for index, row in df.iterrows():
    color = 'yellow' if row['brightness'] < 3000 else 'orange' if row['brightness'] < 3500 else 'red'
    if row['satellite'] == 'Aqua':
        aqua.add_child(folium.Marker(
            location=[row['latitude'], row['longitude']],
            icon=folium.Icon(color=color, icon='fire'),
            popup=f"Brightness: {row['brightness']}"
        ))
    else:
        terra.add_child(folium.Marker(
            location=[row['latitude'], row['longitude']],
            icon=folium.Icon(color=color, icon='fire'),
            popup=f"Brightness: {row['brightness']}"
        ))

# Añadir los FeatureGroups al mapa
m4.add_child(aqua)
m4.add_child(terra)

# Añadir control de capas
folium.LayerControl().add_to(m4)

# Crear el mapa base
m5 = folium.Map(location=[39.8283, -98.5795], zoom_start=6)

# Crear FeatureGroups para cada rango de brillo
yellow = folium.FeatureGroup(name='Yellow (Brightness < 3000)')
orange = folium.FeatureGroup(name='Orange (3000 <= Brightness < 3500)')
red = folium.FeatureGroup(name='Red (Brightness >= 3500)')

# Agregar marcadores según el brillo
for index, row in df.iterrows():
    if row['brightness'] < 3000:
        yellow.add_child(folium.Marker(
            location=[row['latitude'], row['longitude']],
            icon=folium.Icon(color='yellow', icon='fire'),
            popup=f"Brightness: {row['brightness']}"
        ))
    elif row['brightness'] < 3500:
        orange.add_child(folium.Marker(
            location=[row['latitude'], row['longitude']],
            icon=folium.Icon(color='orange', icon='fire'),
            popup=f"Brightness: {row['brightness']}"
        ))
    else:
        red.add_child(folium.Marker(
            location=[row['latitude'], row['longitude']],
            icon=folium.Icon(color='red', icon='fire'),
            popup=f"Brightness: {row['brightness']}"
        ))

# Añadir los FeatureGroups al mapa
m5.add_child(yellow)
m5.add_child(orange)
m5.add_child(red)

# Añadir control de capas
folium.LayerControl().add_to(m5)

# Mostrar los mapas
m
m2
m3
m4
m5